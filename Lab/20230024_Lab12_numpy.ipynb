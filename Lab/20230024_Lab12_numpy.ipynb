{
 "cells": [
  {
   "cell_type": "markdown",
   "id": "373dde1b",
   "metadata": {},
   "source": [
    "## NumPy\n",
    "+ 계산 과학 분야에 이용되는 핵심 라이브러리\n",
    "+ 다차원 배열 객체를 연산하는 도구 제공"
   ]
  },
  {
   "cell_type": "code",
   "execution_count": 2,
   "id": "6d18bffc",
   "metadata": {},
   "outputs": [],
   "source": [
    "import numpy as np\n"
   ]
  },
  {
   "cell_type": "code",
   "execution_count": 3,
   "id": "6126ce5b",
   "metadata": {},
   "outputs": [
    {
     "name": "stdout",
     "output_type": "stream",
     "text": [
      "[0 1 2 3 4 5]\n"
     ]
    }
   ],
   "source": [
    "# 1차원 배열 생성 \n",
    "a = np.array([0, 1, 2, 3, 4, 5])\n",
    "print(a)"
   ]
  },
  {
   "cell_type": "code",
   "execution_count": 4,
   "id": "cdb54337",
   "metadata": {},
   "outputs": [
    {
     "data": {
      "text/plain": [
       "numpy.ndarray"
      ]
     },
     "execution_count": 4,
     "metadata": {},
     "output_type": "execute_result"
    }
   ],
   "source": [
    "type(a)"
   ]
  },
  {
   "cell_type": "code",
   "execution_count": 5,
   "id": "c5ca6d42",
   "metadata": {},
   "outputs": [
    {
     "data": {
      "text/plain": [
       "array([[0, 1, 2],\n",
       "       [3, 4, 5]])"
      ]
     },
     "execution_count": 5,
     "metadata": {},
     "output_type": "execute_result"
    }
   ],
   "source": [
    "# 2차원 배열 생성\n",
    "# (실습) 아래와 같이 출력되는 배열 생성하기\n",
    "# (실행 예시)\n",
    "# -----------------------------\n",
    "np.array([[0, 1, 2],\n",
    " [3, 4, 5]])\n",
    "# -----------------------------\n",
    "\n"
   ]
  },
  {
   "cell_type": "markdown",
   "id": "0c557f20",
   "metadata": {},
   "source": [
    "## 넘파이 함수 "
   ]
  },
  {
   "cell_type": "markdown",
   "id": "808946c0",
   "metadata": {},
   "source": [
    "### - np.zeros()"
   ]
  },
  {
   "cell_type": "code",
   "execution_count": 6,
   "id": "fcf2410b",
   "metadata": {},
   "outputs": [
    {
     "data": {
      "text/plain": [
       "array([[0., 0., 0., 0.],\n",
       "       [0., 0., 0., 0.],\n",
       "       [0., 0., 0., 0.]])"
      ]
     },
     "execution_count": 6,
     "metadata": {},
     "output_type": "execute_result"
    }
   ],
   "source": [
    "np.zeros((3,4))#: 0으로 이루어진 배열 생성\n",
    "# (실습) 3x4 형태의 0으로 이루어진 배열 생성하기\n",
    "# (실행 예시)\n",
    "# -----------------------------\n",
    "# array([[0., 0., 0., 0.],\n",
    "#        [0., 0., 0., 0.],\n",
    "#        [0., 0., 0., 0.]])\n",
    "# -----------------------------\n"
   ]
  },
  {
   "cell_type": "markdown",
   "id": "5e5be290",
   "metadata": {},
   "source": [
    "### - np.ones()"
   ]
  },
  {
   "cell_type": "code",
   "execution_count": 7,
   "id": "40c6b353",
   "metadata": {},
   "outputs": [
    {
     "data": {
      "text/plain": [
       "array([[1., 1., 1.],\n",
       "       [1., 1., 1.]])"
      ]
     },
     "execution_count": 7,
     "metadata": {},
     "output_type": "execute_result"
    }
   ],
   "source": [
    "np.ones((2,3))#: 1로 이루어진 배열 생성\n",
    "# (실습) 2x3 형태의 1로 이루어진 배열 생성\n",
    "# (실행 예시)\n",
    "# -----------------------------\n",
    "# array([[1., 1., 1.],\n",
    "#        [1., 1., 1.]])\n",
    "# -----------------------------\n"
   ]
  },
  {
   "cell_type": "markdown",
   "id": "a71a83a9",
   "metadata": {},
   "source": [
    "### - np.arange()"
   ]
  },
  {
   "cell_type": "code",
   "execution_count": 8,
   "id": "ef2eff2c",
   "metadata": {},
   "outputs": [],
   "source": [
    "a = np.arange(1,13)#: 특정 범위에 있는 정수 생성; python의 range()와 유사\n",
    "# (실습) 1부터 12까지의 정수형 원소를 가진 배열 a 생성\n",
    "# (실행 예시)\n",
    "# -----------------------------\n",
    "# array([ 1,  2,  3,  4,  5,  6,  7,  8,  9, 10, 11, 12])\n",
    "# -----------------------------\n"
   ]
  },
  {
   "cell_type": "markdown",
   "id": "4d9bebca",
   "metadata": {},
   "source": [
    "### - array.reshape()"
   ]
  },
  {
   "cell_type": "code",
   "execution_count": 9,
   "id": "970ac5f9",
   "metadata": {},
   "outputs": [
    {
     "data": {
      "text/plain": [
       "array([[ 1,  2,  3,  4],\n",
       "       [ 5,  6,  7,  8],\n",
       "       [ 9, 10, 11, 12]])"
      ]
     },
     "execution_count": 9,
     "metadata": {},
     "output_type": "execute_result"
    }
   ],
   "source": [
    "b = a.reshape((3,4))\n",
    "# (실습) 위에서 생성한 배열 a를 3x4 형태의 2차원 배열로 재구성한 배열 b 생성\n",
    "# (실행 예시)\n",
    "# -----------------------------\n",
    "# array([[ 1,  2,  3,  4],\n",
    "#        [ 5,  6,  7,  8],\n",
    "#        [ 9, 10, 11, 12]])\n",
    "# -----------------------------\n",
    "b\n"
   ]
  },
  {
   "cell_type": "markdown",
   "id": "a44fdec9",
   "metadata": {},
   "source": [
    "### - np.transpose()"
   ]
  },
  {
   "cell_type": "code",
   "execution_count": 10,
   "id": "7b5ac64b",
   "metadata": {},
   "outputs": [
    {
     "data": {
      "text/plain": [
       "array([[ 1,  5,  9],\n",
       "       [ 2,  6, 10],\n",
       "       [ 3,  7, 11],\n",
       "       [ 4,  8, 12]])"
      ]
     },
     "execution_count": 10,
     "metadata": {},
     "output_type": "execute_result"
    }
   ],
   "source": [
    "c = np.transpose(b)#: 행과 열을 바꿈 또는 array.T 속성 사용\n",
    "# (실습) 위에서 변형한 배열 b의 행과 열을 바꿈\n",
    "# (실행 예시)\n",
    "# -----------------------------\n",
    "# array([[ 1,  5,  9],\n",
    "#        [ 2,  6, 10],\n",
    "#        [ 3,  7, 11],\n",
    "#        [ 4,  8, 12]])\n",
    "# -----------------------------\n",
    "c"
   ]
  },
  {
   "cell_type": "markdown",
   "id": "64cc07a7",
   "metadata": {},
   "source": [
    "## 인덱싱/슬라이싱"
   ]
  },
  {
   "cell_type": "code",
   "execution_count": 11,
   "id": "ae693a3c",
   "metadata": {},
   "outputs": [
    {
     "data": {
      "text/plain": [
       "array([[ 1,  2,  3,  4,  5],\n",
       "       [ 6,  7,  8,  9, 10],\n",
       "       [11, 12, 13, 14, 15]])"
      ]
     },
     "execution_count": 11,
     "metadata": {},
     "output_type": "execute_result"
    }
   ],
   "source": [
    "# (실습) 아래와 같은 원소와 형태를 가진 2차원 배열 c 생성\n",
    "# (실행 예시)\n",
    "# -----------------------------\n",
    "# array([[ 1,  2,  3,  4,  5],\n",
    "#        [ 6,  7,  8,  9, 10],\n",
    "#        [11, 12, 13, 14, 15]])\n",
    "# -----------------------------\n",
    "a = np.arange(1,16)\n",
    "a = a.reshape(3,5)\n",
    "a"
   ]
  },
  {
   "cell_type": "code",
   "execution_count": 12,
   "id": "410c01b1",
   "metadata": {},
   "outputs": [
    {
     "name": "stdout",
     "output_type": "stream",
     "text": [
      "8\n"
     ]
    }
   ],
   "source": [
    "# 인덱싱 - 위 배열 c에서 8의 값 접근\n",
    "print(a[1][2])"
   ]
  },
  {
   "cell_type": "code",
   "execution_count": 13,
   "id": "f3b178ab",
   "metadata": {},
   "outputs": [
    {
     "data": {
      "text/plain": [
       "array([[ 9, 10],\n",
       "       [14, 15]])"
      ]
     },
     "execution_count": 13,
     "metadata": {},
     "output_type": "execute_result"
    }
   ],
   "source": [
    "# (실습) 슬라이싱을 기능을 이용해 아래처럼 c배열에서 일부만 추출\n",
    "# (실행 예시)\n",
    "# ----------------------------- \n",
    "# array([[ 9, 10],\n",
    "#        [14, 15]])\n",
    "# ----------------------------- \n",
    "a[1:3, 3:5]"
   ]
  },
  {
   "cell_type": "markdown",
   "id": "a2008aca",
   "metadata": {},
   "source": [
    "### 배열의 연산"
   ]
  },
  {
   "cell_type": "code",
   "execution_count": 14,
   "id": "e1637140",
   "metadata": {},
   "outputs": [],
   "source": [
    "A = np.array([[1, 2],\n",
    "              [3, 4]])\n",
    "B = np.array([[5, 6],\n",
    "              [7, 8]])\n",
    "\n",
    "# (실습) +, -, *, / ==> 산술연산은 기본적으로 elementwise로 적용"
   ]
  },
  {
   "cell_type": "code",
   "execution_count": 15,
   "id": "471486c4",
   "metadata": {},
   "outputs": [
    {
     "data": {
      "text/plain": [
       "array([[19, 22],\n",
       "       [43, 50]])"
      ]
     },
     "execution_count": 15,
     "metadata": {},
     "output_type": "execute_result"
    }
   ],
   "source": [
    "# dot product\n",
    "# 행렬곱은 @연산자 또는 np.matmul()을 사용할 것을 권장\n",
    "\n",
    "A @ B\n",
    "np.matmul(A, B)"
   ]
  },
  {
   "cell_type": "code",
   "execution_count": 17,
   "id": "8f5cb660",
   "metadata": {},
   "outputs": [
    {
     "name": "stdout",
     "output_type": "stream",
     "text": [
      "[[1. 1. 1.]\n",
      " [1. 1. 1.]\n",
      " [1. 1. 1.]]\n",
      "\n",
      "[[1. 1. 1.]\n",
      " [1. 0. 1.]\n",
      " [1. 1. 1.]]\n",
      "[10.  5.]\n"
     ]
    }
   ],
   "source": [
    "\n",
    "\n",
    "n = int(input(\"3이상의 정수 입력: \"))\n",
    "\n",
    "a = np.ones((n,n))\n",
    "print(a)\n",
    "print()\n",
    "a[1:n-1, 1:n-1] = 0\n",
    "print(a)\n",
    "\n",
    "def linear_system_solver(ndarr, v):\n",
    "    return np.linalg.inv(ndarr) @ v\n",
    "\n",
    "print(linear_system_solver([[1,1],[2,1]], [15,25]))"
   ]
  }
 ],
 "metadata": {
  "kernelspec": {
   "display_name": "Python 3 (ipykernel)",
   "language": "python",
   "name": "python3"
  },
  "language_info": {
   "codemirror_mode": {
    "name": "ipython",
    "version": 3
   },
   "file_extension": ".py",
   "mimetype": "text/x-python",
   "name": "python",
   "nbconvert_exporter": "python",
   "pygments_lexer": "ipython3",
   "version": "3.12.0"
  }
 },
 "nbformat": 4,
 "nbformat_minor": 5
}
